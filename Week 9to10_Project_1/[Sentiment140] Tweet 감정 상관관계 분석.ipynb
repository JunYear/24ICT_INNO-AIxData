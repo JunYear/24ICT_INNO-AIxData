{
 "cells": [
  {
   "cell_type": "markdown",
   "id": "f5cca743-a629-4ce9-8dd5-486695b0f4a2",
   "metadata": {},
   "source": [
    "# Sentiment140 데이터셋 분석\n",
    "\n",
    "## 데이터셋 설명\n",
    "\n",
    "`Sentiment140` 데이터셋은 트위터에서 수집된 160만 개의 트윗으로 구성되어 있으며, 감정 분석을 위해 라벨링된 데이터이다. 각 트윗은 감정 레이블(긍정 또는 부정)과 함께 제공된다.\n",
    "\n",
    "- **데이터셋 출처**: [Sentiment140 on Kaggle](https://www.kaggle.com/datasets/kazanova/sentiment140)\n",
    "- **데이터 포맷**: CSV 파일\n",
    "- **컬럼 설명**:\n",
    "  - `Sentiment`: 트윗의 감정 레이블 (0: 부정, 4: 긍정)\n",
    "  - `ID`: 각 트윗의 고유 식별자(ID)\n",
    "  - `Date`: 트윗이 작성된 날짜와 시간 (2009.04.06 ~ 2009.06.25)\n",
    "  - `Query`: 트윗이 특정한 쿼리로 검색되었는지 여부 판단\n",
    "  - `User`: 트윗을 작성한 사용자의 트위터 핸들(사용자 이름)\n",
    "  - `Text`: 트윗의 실제 내용(텍스트)\n"
   ]
  },
  {
   "cell_type": "markdown",
   "id": "2a7f51ae-dd5f-482b-815b-f0570852bb32",
   "metadata": {},
   "source": [
    "---\n",
    "## 가설 설정\n",
    "\n",
    "본 분석에서는 다음과 같은 가설을 설정하고 검증을 기반으로 한다.\n",
    "\n",
    "### **트윗의 길이와 작성 일자, 작성 시간대와 감정(긍정/부정) 사이에는 상관관계**\n",
    "- 귀무 가설 (H0): **트윗의 길이**, **작성 일자**, **작성 시간대**와 감정(긍정/부정) 사이에는 상관관계가 없다.\n",
    "- 대립 가설 (H1): **트윗의 길이**, **작성 일자**, **작성 시간대**와 감정(긍정/부정) 사이에는 상관관계가 있다.\n",
    "\n",
    "\n",
    "이 가설들을 바탕으로 `Sentiment140` 데이터셋을 분석하고, 통계적 검정을 통해 상관관계를 확인하여 프로젝트를 수행한다.\n",
    "\n",
    "---\n"
   ]
  },
  {
   "cell_type": "markdown",
   "id": "27e9748f-754d-4e22-9454-827a2be7d113",
   "metadata": {},
   "source": [
    "# 1. 데이터 로드\n",
    "- 데이터를 로드하여, 전처리가 필요하다면 이를 수행한다.\n",
    "- `Sentiment140` 데이터셋을 로드하고, 필요한 칼럼 추가하여 가설을 검증하기 위한 단계이다."
   ]
  },
  {
   "cell_type": "markdown",
   "id": "57df5ae7-c19c-42a2-a4ae-62c4c8c2a282",
   "metadata": {},
   "source": [
    "## 1-1. 라이브러리 정의"
   ]
  },
  {
   "cell_type": "code",
   "execution_count": 5,
   "id": "a9d69a5c-0f77-4366-b014-9b6b31fde7eb",
   "metadata": {},
   "outputs": [],
   "source": [
    "# 다차원 배열 및 행렬 기반 데이터프레임 처리를 위한 라이브러리\n",
    "import pandas as pd\n",
    "import numpy as np\n",
    "\n",
    "# 데이터 시각화를 위한 라이브러리\n",
    "import matplotlib.pyplot as plt\n",
    "import seaborn as sns\n",
    "\n",
    "# T-검정 (두 개의 독립된 표본이 다른지 테스트), 카이제곱 검정(범주형 데이터 간의 독립성 검증)을 위한 라이브러리\n",
    "from scipy.stats import ttest_ind, chi2_contingency"
   ]
  },
  {
   "cell_type": "markdown",
   "id": "7b8cb074-b0b2-408c-8c07-354c39ef7632",
   "metadata": {},
   "source": [
    "## 1-2. 데이터셋 로드"
   ]
  },
  {
   "cell_type": "code",
   "execution_count": 7,
   "id": "8ea48e20-4814-4a85-839d-13e5e801de4d",
   "metadata": {},
   "outputs": [
    {
     "data": {
      "text/html": [
       "<div>\n",
       "<style scoped>\n",
       "    .dataframe tbody tr th:only-of-type {\n",
       "        vertical-align: middle;\n",
       "    }\n",
       "\n",
       "    .dataframe tbody tr th {\n",
       "        vertical-align: top;\n",
       "    }\n",
       "\n",
       "    .dataframe thead th {\n",
       "        text-align: right;\n",
       "    }\n",
       "</style>\n",
       "<table border=\"1\" class=\"dataframe\">\n",
       "  <thead>\n",
       "    <tr style=\"text-align: right;\">\n",
       "      <th></th>\n",
       "      <th>0</th>\n",
       "      <th>1467810369</th>\n",
       "      <th>Mon Apr 06 22:19:45 PDT 2009</th>\n",
       "      <th>NO_QUERY</th>\n",
       "      <th>_TheSpecialOne_</th>\n",
       "      <th>@switchfoot http://twitpic.com/2y1zl - Awww, that's a bummer.  You shoulda got David Carr of Third Day to do it. ;D</th>\n",
       "    </tr>\n",
       "  </thead>\n",
       "  <tbody>\n",
       "    <tr>\n",
       "      <th>0</th>\n",
       "      <td>0</td>\n",
       "      <td>1467810672</td>\n",
       "      <td>Mon Apr 06 22:19:49 PDT 2009</td>\n",
       "      <td>NO_QUERY</td>\n",
       "      <td>scotthamilton</td>\n",
       "      <td>is upset that he can't update his Facebook by ...</td>\n",
       "    </tr>\n",
       "    <tr>\n",
       "      <th>1</th>\n",
       "      <td>0</td>\n",
       "      <td>1467810917</td>\n",
       "      <td>Mon Apr 06 22:19:53 PDT 2009</td>\n",
       "      <td>NO_QUERY</td>\n",
       "      <td>mattycus</td>\n",
       "      <td>@Kenichan I dived many times for the ball. Man...</td>\n",
       "    </tr>\n",
       "    <tr>\n",
       "      <th>2</th>\n",
       "      <td>0</td>\n",
       "      <td>1467811184</td>\n",
       "      <td>Mon Apr 06 22:19:57 PDT 2009</td>\n",
       "      <td>NO_QUERY</td>\n",
       "      <td>ElleCTF</td>\n",
       "      <td>my whole body feels itchy and like its on fire</td>\n",
       "    </tr>\n",
       "    <tr>\n",
       "      <th>3</th>\n",
       "      <td>0</td>\n",
       "      <td>1467811193</td>\n",
       "      <td>Mon Apr 06 22:19:57 PDT 2009</td>\n",
       "      <td>NO_QUERY</td>\n",
       "      <td>Karoli</td>\n",
       "      <td>@nationwideclass no, it's not behaving at all....</td>\n",
       "    </tr>\n",
       "    <tr>\n",
       "      <th>4</th>\n",
       "      <td>0</td>\n",
       "      <td>1467811372</td>\n",
       "      <td>Mon Apr 06 22:20:00 PDT 2009</td>\n",
       "      <td>NO_QUERY</td>\n",
       "      <td>joy_wolf</td>\n",
       "      <td>@Kwesidei not the whole crew</td>\n",
       "    </tr>\n",
       "    <tr>\n",
       "      <th>...</th>\n",
       "      <td>...</td>\n",
       "      <td>...</td>\n",
       "      <td>...</td>\n",
       "      <td>...</td>\n",
       "      <td>...</td>\n",
       "      <td>...</td>\n",
       "    </tr>\n",
       "    <tr>\n",
       "      <th>1599994</th>\n",
       "      <td>4</td>\n",
       "      <td>2193601966</td>\n",
       "      <td>Tue Jun 16 08:40:49 PDT 2009</td>\n",
       "      <td>NO_QUERY</td>\n",
       "      <td>AmandaMarie1028</td>\n",
       "      <td>Just woke up. Having no school is the best fee...</td>\n",
       "    </tr>\n",
       "    <tr>\n",
       "      <th>1599995</th>\n",
       "      <td>4</td>\n",
       "      <td>2193601969</td>\n",
       "      <td>Tue Jun 16 08:40:49 PDT 2009</td>\n",
       "      <td>NO_QUERY</td>\n",
       "      <td>TheWDBoards</td>\n",
       "      <td>TheWDB.com - Very cool to hear old Walt interv...</td>\n",
       "    </tr>\n",
       "    <tr>\n",
       "      <th>1599996</th>\n",
       "      <td>4</td>\n",
       "      <td>2193601991</td>\n",
       "      <td>Tue Jun 16 08:40:49 PDT 2009</td>\n",
       "      <td>NO_QUERY</td>\n",
       "      <td>bpbabe</td>\n",
       "      <td>Are you ready for your MoJo Makeover? Ask me f...</td>\n",
       "    </tr>\n",
       "    <tr>\n",
       "      <th>1599997</th>\n",
       "      <td>4</td>\n",
       "      <td>2193602064</td>\n",
       "      <td>Tue Jun 16 08:40:49 PDT 2009</td>\n",
       "      <td>NO_QUERY</td>\n",
       "      <td>tinydiamondz</td>\n",
       "      <td>Happy 38th Birthday to my boo of alll time!!! ...</td>\n",
       "    </tr>\n",
       "    <tr>\n",
       "      <th>1599998</th>\n",
       "      <td>4</td>\n",
       "      <td>2193602129</td>\n",
       "      <td>Tue Jun 16 08:40:50 PDT 2009</td>\n",
       "      <td>NO_QUERY</td>\n",
       "      <td>RyanTrevMorris</td>\n",
       "      <td>happy #charitytuesday @theNSPCC @SparksCharity...</td>\n",
       "    </tr>\n",
       "  </tbody>\n",
       "</table>\n",
       "<p>1599999 rows × 6 columns</p>\n",
       "</div>"
      ],
      "text/plain": [
       "         0  1467810369  Mon Apr 06 22:19:45 PDT 2009  NO_QUERY  \\\n",
       "0        0  1467810672  Mon Apr 06 22:19:49 PDT 2009  NO_QUERY   \n",
       "1        0  1467810917  Mon Apr 06 22:19:53 PDT 2009  NO_QUERY   \n",
       "2        0  1467811184  Mon Apr 06 22:19:57 PDT 2009  NO_QUERY   \n",
       "3        0  1467811193  Mon Apr 06 22:19:57 PDT 2009  NO_QUERY   \n",
       "4        0  1467811372  Mon Apr 06 22:20:00 PDT 2009  NO_QUERY   \n",
       "...     ..         ...                           ...       ...   \n",
       "1599994  4  2193601966  Tue Jun 16 08:40:49 PDT 2009  NO_QUERY   \n",
       "1599995  4  2193601969  Tue Jun 16 08:40:49 PDT 2009  NO_QUERY   \n",
       "1599996  4  2193601991  Tue Jun 16 08:40:49 PDT 2009  NO_QUERY   \n",
       "1599997  4  2193602064  Tue Jun 16 08:40:49 PDT 2009  NO_QUERY   \n",
       "1599998  4  2193602129  Tue Jun 16 08:40:50 PDT 2009  NO_QUERY   \n",
       "\n",
       "         _TheSpecialOne_  \\\n",
       "0          scotthamilton   \n",
       "1               mattycus   \n",
       "2                ElleCTF   \n",
       "3                 Karoli   \n",
       "4               joy_wolf   \n",
       "...                  ...   \n",
       "1599994  AmandaMarie1028   \n",
       "1599995      TheWDBoards   \n",
       "1599996           bpbabe   \n",
       "1599997     tinydiamondz   \n",
       "1599998   RyanTrevMorris   \n",
       "\n",
       "        @switchfoot http://twitpic.com/2y1zl - Awww, that's a bummer.  You shoulda got David Carr of Third Day to do it. ;D  \n",
       "0        is upset that he can't update his Facebook by ...                                                                   \n",
       "1        @Kenichan I dived many times for the ball. Man...                                                                   \n",
       "2          my whole body feels itchy and like its on fire                                                                    \n",
       "3        @nationwideclass no, it's not behaving at all....                                                                   \n",
       "4                            @Kwesidei not the whole crew                                                                    \n",
       "...                                                    ...                                                                   \n",
       "1599994  Just woke up. Having no school is the best fee...                                                                   \n",
       "1599995  TheWDB.com - Very cool to hear old Walt interv...                                                                   \n",
       "1599996  Are you ready for your MoJo Makeover? Ask me f...                                                                   \n",
       "1599997  Happy 38th Birthday to my boo of alll time!!! ...                                                                   \n",
       "1599998  happy #charitytuesday @theNSPCC @SparksCharity...                                                                   \n",
       "\n",
       "[1599999 rows x 6 columns]"
      ]
     },
     "execution_count": 7,
     "metadata": {},
     "output_type": "execute_result"
    }
   ],
   "source": [
    "# url = 'https://www.kaggle.com/datasets/kazanova/sentiment140'\n",
    "df = pd.read_csv('Sentiment140.csv', encoding='latin-1')\n",
    "df"
   ]
  },
  {
   "cell_type": "markdown",
   "id": "b890ea74-6135-4aaa-a0c6-e43691383c19",
   "metadata": {},
   "source": [
    "---\n",
    "# 2. 데이터 전처리"
   ]
  },
  {
   "cell_type": "markdown",
   "id": "6ed14650-9850-4c3a-9da9-11b9d568cb95",
   "metadata": {},
   "source": [
    "# 2-1. 칼럼명 추가하기\n",
    "- Column 0 (Sentiment)\n",
    "- Column 1 (ID)\n",
    "- Column 2 (Date) \n",
    "- Column 3 (Query) \n",
    "- Column 4 (User)\n",
    "- Column 5 (Text)"
   ]
  },
  {
   "cell_type": "code",
   "execution_count": 10,
   "id": "1c7b9e0f-b95c-4910-a6b7-301bc12fe19b",
   "metadata": {},
   "outputs": [],
   "source": [
    "df.columns = ['Sentiment', 'ID', 'Date', 'Query', 'User', 'Text']"
   ]
  },
  {
   "cell_type": "code",
   "execution_count": 11,
   "id": "58576979-01ae-4088-904d-3b7f5188e2d1",
   "metadata": {},
   "outputs": [
    {
     "data": {
      "text/html": [
       "<div>\n",
       "<style scoped>\n",
       "    .dataframe tbody tr th:only-of-type {\n",
       "        vertical-align: middle;\n",
       "    }\n",
       "\n",
       "    .dataframe tbody tr th {\n",
       "        vertical-align: top;\n",
       "    }\n",
       "\n",
       "    .dataframe thead th {\n",
       "        text-align: right;\n",
       "    }\n",
       "</style>\n",
       "<table border=\"1\" class=\"dataframe\">\n",
       "  <thead>\n",
       "    <tr style=\"text-align: right;\">\n",
       "      <th></th>\n",
       "      <th>Sentiment</th>\n",
       "      <th>ID</th>\n",
       "      <th>Date</th>\n",
       "      <th>Query</th>\n",
       "      <th>User</th>\n",
       "      <th>Text</th>\n",
       "    </tr>\n",
       "  </thead>\n",
       "  <tbody>\n",
       "    <tr>\n",
       "      <th>0</th>\n",
       "      <td>0</td>\n",
       "      <td>1467810672</td>\n",
       "      <td>Mon Apr 06 22:19:49 PDT 2009</td>\n",
       "      <td>NO_QUERY</td>\n",
       "      <td>scotthamilton</td>\n",
       "      <td>is upset that he can't update his Facebook by ...</td>\n",
       "    </tr>\n",
       "    <tr>\n",
       "      <th>1</th>\n",
       "      <td>0</td>\n",
       "      <td>1467810917</td>\n",
       "      <td>Mon Apr 06 22:19:53 PDT 2009</td>\n",
       "      <td>NO_QUERY</td>\n",
       "      <td>mattycus</td>\n",
       "      <td>@Kenichan I dived many times for the ball. Man...</td>\n",
       "    </tr>\n",
       "    <tr>\n",
       "      <th>2</th>\n",
       "      <td>0</td>\n",
       "      <td>1467811184</td>\n",
       "      <td>Mon Apr 06 22:19:57 PDT 2009</td>\n",
       "      <td>NO_QUERY</td>\n",
       "      <td>ElleCTF</td>\n",
       "      <td>my whole body feels itchy and like its on fire</td>\n",
       "    </tr>\n",
       "    <tr>\n",
       "      <th>3</th>\n",
       "      <td>0</td>\n",
       "      <td>1467811193</td>\n",
       "      <td>Mon Apr 06 22:19:57 PDT 2009</td>\n",
       "      <td>NO_QUERY</td>\n",
       "      <td>Karoli</td>\n",
       "      <td>@nationwideclass no, it's not behaving at all....</td>\n",
       "    </tr>\n",
       "    <tr>\n",
       "      <th>4</th>\n",
       "      <td>0</td>\n",
       "      <td>1467811372</td>\n",
       "      <td>Mon Apr 06 22:20:00 PDT 2009</td>\n",
       "      <td>NO_QUERY</td>\n",
       "      <td>joy_wolf</td>\n",
       "      <td>@Kwesidei not the whole crew</td>\n",
       "    </tr>\n",
       "    <tr>\n",
       "      <th>...</th>\n",
       "      <td>...</td>\n",
       "      <td>...</td>\n",
       "      <td>...</td>\n",
       "      <td>...</td>\n",
       "      <td>...</td>\n",
       "      <td>...</td>\n",
       "    </tr>\n",
       "    <tr>\n",
       "      <th>1599994</th>\n",
       "      <td>4</td>\n",
       "      <td>2193601966</td>\n",
       "      <td>Tue Jun 16 08:40:49 PDT 2009</td>\n",
       "      <td>NO_QUERY</td>\n",
       "      <td>AmandaMarie1028</td>\n",
       "      <td>Just woke up. Having no school is the best fee...</td>\n",
       "    </tr>\n",
       "    <tr>\n",
       "      <th>1599995</th>\n",
       "      <td>4</td>\n",
       "      <td>2193601969</td>\n",
       "      <td>Tue Jun 16 08:40:49 PDT 2009</td>\n",
       "      <td>NO_QUERY</td>\n",
       "      <td>TheWDBoards</td>\n",
       "      <td>TheWDB.com - Very cool to hear old Walt interv...</td>\n",
       "    </tr>\n",
       "    <tr>\n",
       "      <th>1599996</th>\n",
       "      <td>4</td>\n",
       "      <td>2193601991</td>\n",
       "      <td>Tue Jun 16 08:40:49 PDT 2009</td>\n",
       "      <td>NO_QUERY</td>\n",
       "      <td>bpbabe</td>\n",
       "      <td>Are you ready for your MoJo Makeover? Ask me f...</td>\n",
       "    </tr>\n",
       "    <tr>\n",
       "      <th>1599997</th>\n",
       "      <td>4</td>\n",
       "      <td>2193602064</td>\n",
       "      <td>Tue Jun 16 08:40:49 PDT 2009</td>\n",
       "      <td>NO_QUERY</td>\n",
       "      <td>tinydiamondz</td>\n",
       "      <td>Happy 38th Birthday to my boo of alll time!!! ...</td>\n",
       "    </tr>\n",
       "    <tr>\n",
       "      <th>1599998</th>\n",
       "      <td>4</td>\n",
       "      <td>2193602129</td>\n",
       "      <td>Tue Jun 16 08:40:50 PDT 2009</td>\n",
       "      <td>NO_QUERY</td>\n",
       "      <td>RyanTrevMorris</td>\n",
       "      <td>happy #charitytuesday @theNSPCC @SparksCharity...</td>\n",
       "    </tr>\n",
       "  </tbody>\n",
       "</table>\n",
       "<p>1599999 rows × 6 columns</p>\n",
       "</div>"
      ],
      "text/plain": [
       "         Sentiment          ID                          Date     Query  \\\n",
       "0                0  1467810672  Mon Apr 06 22:19:49 PDT 2009  NO_QUERY   \n",
       "1                0  1467810917  Mon Apr 06 22:19:53 PDT 2009  NO_QUERY   \n",
       "2                0  1467811184  Mon Apr 06 22:19:57 PDT 2009  NO_QUERY   \n",
       "3                0  1467811193  Mon Apr 06 22:19:57 PDT 2009  NO_QUERY   \n",
       "4                0  1467811372  Mon Apr 06 22:20:00 PDT 2009  NO_QUERY   \n",
       "...            ...         ...                           ...       ...   \n",
       "1599994          4  2193601966  Tue Jun 16 08:40:49 PDT 2009  NO_QUERY   \n",
       "1599995          4  2193601969  Tue Jun 16 08:40:49 PDT 2009  NO_QUERY   \n",
       "1599996          4  2193601991  Tue Jun 16 08:40:49 PDT 2009  NO_QUERY   \n",
       "1599997          4  2193602064  Tue Jun 16 08:40:49 PDT 2009  NO_QUERY   \n",
       "1599998          4  2193602129  Tue Jun 16 08:40:50 PDT 2009  NO_QUERY   \n",
       "\n",
       "                    User                                               Text  \n",
       "0          scotthamilton  is upset that he can't update his Facebook by ...  \n",
       "1               mattycus  @Kenichan I dived many times for the ball. Man...  \n",
       "2                ElleCTF    my whole body feels itchy and like its on fire   \n",
       "3                 Karoli  @nationwideclass no, it's not behaving at all....  \n",
       "4               joy_wolf                      @Kwesidei not the whole crew   \n",
       "...                  ...                                                ...  \n",
       "1599994  AmandaMarie1028  Just woke up. Having no school is the best fee...  \n",
       "1599995      TheWDBoards  TheWDB.com - Very cool to hear old Walt interv...  \n",
       "1599996           bpbabe  Are you ready for your MoJo Makeover? Ask me f...  \n",
       "1599997     tinydiamondz  Happy 38th Birthday to my boo of alll time!!! ...  \n",
       "1599998   RyanTrevMorris  happy #charitytuesday @theNSPCC @SparksCharity...  \n",
       "\n",
       "[1599999 rows x 6 columns]"
      ]
     },
     "execution_count": 11,
     "metadata": {},
     "output_type": "execute_result"
    }
   ],
   "source": [
    "df"
   ]
  },
  {
   "cell_type": "markdown",
   "id": "a0e3e3f3-9117-41e9-b89d-cb1053384ce8",
   "metadata": {},
   "source": [
    "## 2-2. Query 열 제거하기\n",
    "- 상관관계 분석에 불필요한 Query 열 제거"
   ]
  },
  {
   "cell_type": "code",
   "execution_count": 13,
   "id": "b395c9cf-3d26-40d7-bb25-d533640e71bd",
   "metadata": {},
   "outputs": [
    {
     "data": {
      "text/html": [
       "<div>\n",
       "<style scoped>\n",
       "    .dataframe tbody tr th:only-of-type {\n",
       "        vertical-align: middle;\n",
       "    }\n",
       "\n",
       "    .dataframe tbody tr th {\n",
       "        vertical-align: top;\n",
       "    }\n",
       "\n",
       "    .dataframe thead th {\n",
       "        text-align: right;\n",
       "    }\n",
       "</style>\n",
       "<table border=\"1\" class=\"dataframe\">\n",
       "  <thead>\n",
       "    <tr style=\"text-align: right;\">\n",
       "      <th></th>\n",
       "      <th>Sentiment</th>\n",
       "      <th>ID</th>\n",
       "      <th>Date</th>\n",
       "      <th>User</th>\n",
       "      <th>Text</th>\n",
       "    </tr>\n",
       "  </thead>\n",
       "  <tbody>\n",
       "    <tr>\n",
       "      <th>0</th>\n",
       "      <td>0</td>\n",
       "      <td>1467810672</td>\n",
       "      <td>Mon Apr 06 22:19:49 PDT 2009</td>\n",
       "      <td>scotthamilton</td>\n",
       "      <td>is upset that he can't update his Facebook by ...</td>\n",
       "    </tr>\n",
       "    <tr>\n",
       "      <th>1</th>\n",
       "      <td>0</td>\n",
       "      <td>1467810917</td>\n",
       "      <td>Mon Apr 06 22:19:53 PDT 2009</td>\n",
       "      <td>mattycus</td>\n",
       "      <td>@Kenichan I dived many times for the ball. Man...</td>\n",
       "    </tr>\n",
       "    <tr>\n",
       "      <th>2</th>\n",
       "      <td>0</td>\n",
       "      <td>1467811184</td>\n",
       "      <td>Mon Apr 06 22:19:57 PDT 2009</td>\n",
       "      <td>ElleCTF</td>\n",
       "      <td>my whole body feels itchy and like its on fire</td>\n",
       "    </tr>\n",
       "    <tr>\n",
       "      <th>3</th>\n",
       "      <td>0</td>\n",
       "      <td>1467811193</td>\n",
       "      <td>Mon Apr 06 22:19:57 PDT 2009</td>\n",
       "      <td>Karoli</td>\n",
       "      <td>@nationwideclass no, it's not behaving at all....</td>\n",
       "    </tr>\n",
       "    <tr>\n",
       "      <th>4</th>\n",
       "      <td>0</td>\n",
       "      <td>1467811372</td>\n",
       "      <td>Mon Apr 06 22:20:00 PDT 2009</td>\n",
       "      <td>joy_wolf</td>\n",
       "      <td>@Kwesidei not the whole crew</td>\n",
       "    </tr>\n",
       "    <tr>\n",
       "      <th>...</th>\n",
       "      <td>...</td>\n",
       "      <td>...</td>\n",
       "      <td>...</td>\n",
       "      <td>...</td>\n",
       "      <td>...</td>\n",
       "    </tr>\n",
       "    <tr>\n",
       "      <th>1599994</th>\n",
       "      <td>4</td>\n",
       "      <td>2193601966</td>\n",
       "      <td>Tue Jun 16 08:40:49 PDT 2009</td>\n",
       "      <td>AmandaMarie1028</td>\n",
       "      <td>Just woke up. Having no school is the best fee...</td>\n",
       "    </tr>\n",
       "    <tr>\n",
       "      <th>1599995</th>\n",
       "      <td>4</td>\n",
       "      <td>2193601969</td>\n",
       "      <td>Tue Jun 16 08:40:49 PDT 2009</td>\n",
       "      <td>TheWDBoards</td>\n",
       "      <td>TheWDB.com - Very cool to hear old Walt interv...</td>\n",
       "    </tr>\n",
       "    <tr>\n",
       "      <th>1599996</th>\n",
       "      <td>4</td>\n",
       "      <td>2193601991</td>\n",
       "      <td>Tue Jun 16 08:40:49 PDT 2009</td>\n",
       "      <td>bpbabe</td>\n",
       "      <td>Are you ready for your MoJo Makeover? Ask me f...</td>\n",
       "    </tr>\n",
       "    <tr>\n",
       "      <th>1599997</th>\n",
       "      <td>4</td>\n",
       "      <td>2193602064</td>\n",
       "      <td>Tue Jun 16 08:40:49 PDT 2009</td>\n",
       "      <td>tinydiamondz</td>\n",
       "      <td>Happy 38th Birthday to my boo of alll time!!! ...</td>\n",
       "    </tr>\n",
       "    <tr>\n",
       "      <th>1599998</th>\n",
       "      <td>4</td>\n",
       "      <td>2193602129</td>\n",
       "      <td>Tue Jun 16 08:40:50 PDT 2009</td>\n",
       "      <td>RyanTrevMorris</td>\n",
       "      <td>happy #charitytuesday @theNSPCC @SparksCharity...</td>\n",
       "    </tr>\n",
       "  </tbody>\n",
       "</table>\n",
       "<p>1599999 rows × 5 columns</p>\n",
       "</div>"
      ],
      "text/plain": [
       "         Sentiment          ID                          Date             User  \\\n",
       "0                0  1467810672  Mon Apr 06 22:19:49 PDT 2009    scotthamilton   \n",
       "1                0  1467810917  Mon Apr 06 22:19:53 PDT 2009         mattycus   \n",
       "2                0  1467811184  Mon Apr 06 22:19:57 PDT 2009          ElleCTF   \n",
       "3                0  1467811193  Mon Apr 06 22:19:57 PDT 2009           Karoli   \n",
       "4                0  1467811372  Mon Apr 06 22:20:00 PDT 2009         joy_wolf   \n",
       "...            ...         ...                           ...              ...   \n",
       "1599994          4  2193601966  Tue Jun 16 08:40:49 PDT 2009  AmandaMarie1028   \n",
       "1599995          4  2193601969  Tue Jun 16 08:40:49 PDT 2009      TheWDBoards   \n",
       "1599996          4  2193601991  Tue Jun 16 08:40:49 PDT 2009           bpbabe   \n",
       "1599997          4  2193602064  Tue Jun 16 08:40:49 PDT 2009     tinydiamondz   \n",
       "1599998          4  2193602129  Tue Jun 16 08:40:50 PDT 2009   RyanTrevMorris   \n",
       "\n",
       "                                                      Text  \n",
       "0        is upset that he can't update his Facebook by ...  \n",
       "1        @Kenichan I dived many times for the ball. Man...  \n",
       "2          my whole body feels itchy and like its on fire   \n",
       "3        @nationwideclass no, it's not behaving at all....  \n",
       "4                            @Kwesidei not the whole crew   \n",
       "...                                                    ...  \n",
       "1599994  Just woke up. Having no school is the best fee...  \n",
       "1599995  TheWDB.com - Very cool to hear old Walt interv...  \n",
       "1599996  Are you ready for your MoJo Makeover? Ask me f...  \n",
       "1599997  Happy 38th Birthday to my boo of alll time!!! ...  \n",
       "1599998  happy #charitytuesday @theNSPCC @SparksCharity...  \n",
       "\n",
       "[1599999 rows x 5 columns]"
      ]
     },
     "execution_count": 13,
     "metadata": {},
     "output_type": "execute_result"
    }
   ],
   "source": [
    "df = df.drop(columns=[\"Query\"])\n",
    "df"
   ]
  },
  {
   "cell_type": "markdown",
   "id": "6b6ed1bc-09a8-49c8-b2de-dc89e074adc5",
   "metadata": {},
   "source": [
    "## 2-3. 트윗 길이 칼럼 추가\n",
    "- 트윗 길이와 감정의 상관관계 분석을 위한 열 추가"
   ]
  },
  {
   "cell_type": "code",
   "execution_count": 15,
   "id": "c29f17a5-9e69-4c7c-afe4-16a4e2ed6c28",
   "metadata": {},
   "outputs": [],
   "source": [
    "df['Tw_Len'] = df['Text'].apply(len)"
   ]
  },
  {
   "cell_type": "code",
   "execution_count": 16,
   "id": "9a27edf0-b0e4-4c32-b3d5-39033b218da9",
   "metadata": {},
   "outputs": [
    {
     "data": {
      "text/html": [
       "<div>\n",
       "<style scoped>\n",
       "    .dataframe tbody tr th:only-of-type {\n",
       "        vertical-align: middle;\n",
       "    }\n",
       "\n",
       "    .dataframe tbody tr th {\n",
       "        vertical-align: top;\n",
       "    }\n",
       "\n",
       "    .dataframe thead th {\n",
       "        text-align: right;\n",
       "    }\n",
       "</style>\n",
       "<table border=\"1\" class=\"dataframe\">\n",
       "  <thead>\n",
       "    <tr style=\"text-align: right;\">\n",
       "      <th></th>\n",
       "      <th>Sentiment</th>\n",
       "      <th>ID</th>\n",
       "      <th>Date</th>\n",
       "      <th>User</th>\n",
       "      <th>Text</th>\n",
       "      <th>Tw_Len</th>\n",
       "    </tr>\n",
       "  </thead>\n",
       "  <tbody>\n",
       "    <tr>\n",
       "      <th>0</th>\n",
       "      <td>0</td>\n",
       "      <td>1467810672</td>\n",
       "      <td>Mon Apr 06 22:19:49 PDT 2009</td>\n",
       "      <td>scotthamilton</td>\n",
       "      <td>is upset that he can't update his Facebook by ...</td>\n",
       "      <td>111</td>\n",
       "    </tr>\n",
       "    <tr>\n",
       "      <th>1</th>\n",
       "      <td>0</td>\n",
       "      <td>1467810917</td>\n",
       "      <td>Mon Apr 06 22:19:53 PDT 2009</td>\n",
       "      <td>mattycus</td>\n",
       "      <td>@Kenichan I dived many times for the ball. Man...</td>\n",
       "      <td>89</td>\n",
       "    </tr>\n",
       "    <tr>\n",
       "      <th>2</th>\n",
       "      <td>0</td>\n",
       "      <td>1467811184</td>\n",
       "      <td>Mon Apr 06 22:19:57 PDT 2009</td>\n",
       "      <td>ElleCTF</td>\n",
       "      <td>my whole body feels itchy and like its on fire</td>\n",
       "      <td>47</td>\n",
       "    </tr>\n",
       "    <tr>\n",
       "      <th>3</th>\n",
       "      <td>0</td>\n",
       "      <td>1467811193</td>\n",
       "      <td>Mon Apr 06 22:19:57 PDT 2009</td>\n",
       "      <td>Karoli</td>\n",
       "      <td>@nationwideclass no, it's not behaving at all....</td>\n",
       "      <td>111</td>\n",
       "    </tr>\n",
       "    <tr>\n",
       "      <th>4</th>\n",
       "      <td>0</td>\n",
       "      <td>1467811372</td>\n",
       "      <td>Mon Apr 06 22:20:00 PDT 2009</td>\n",
       "      <td>joy_wolf</td>\n",
       "      <td>@Kwesidei not the whole crew</td>\n",
       "      <td>29</td>\n",
       "    </tr>\n",
       "  </tbody>\n",
       "</table>\n",
       "</div>"
      ],
      "text/plain": [
       "   Sentiment          ID                          Date           User  \\\n",
       "0          0  1467810672  Mon Apr 06 22:19:49 PDT 2009  scotthamilton   \n",
       "1          0  1467810917  Mon Apr 06 22:19:53 PDT 2009       mattycus   \n",
       "2          0  1467811184  Mon Apr 06 22:19:57 PDT 2009        ElleCTF   \n",
       "3          0  1467811193  Mon Apr 06 22:19:57 PDT 2009         Karoli   \n",
       "4          0  1467811372  Mon Apr 06 22:20:00 PDT 2009       joy_wolf   \n",
       "\n",
       "                                                Text  Tw_Len  \n",
       "0  is upset that he can't update his Facebook by ...     111  \n",
       "1  @Kenichan I dived many times for the ball. Man...      89  \n",
       "2    my whole body feels itchy and like its on fire       47  \n",
       "3  @nationwideclass no, it's not behaving at all....     111  \n",
       "4                      @Kwesidei not the whole crew       29  "
      ]
     },
     "execution_count": 16,
     "metadata": {},
     "output_type": "execute_result"
    }
   ],
   "source": [
    "df.head()"
   ]
  },
  {
   "cell_type": "markdown",
   "id": "3d88674b-5563-40a3-8844-0f961ed0d7ec",
   "metadata": {},
   "source": [
    "## 2-4. 감정 레이블 변환 \n",
    "- 부정: 0 -> Negative\n",
    "- 긍정: 4 -> Positive"
   ]
  },
  {
   "cell_type": "code",
   "execution_count": 18,
   "id": "0a531c08-7763-417c-a3e5-c552a4b3b75b",
   "metadata": {},
   "outputs": [],
   "source": [
    "df['Sentiment'] = df['Sentiment'].replace({0: 'Negative', 4: 'Positive'})"
   ]
  },
  {
   "cell_type": "code",
   "execution_count": 19,
   "id": "df59d941-567f-4687-9d82-984a3c10b986",
   "metadata": {},
   "outputs": [
    {
     "data": {
      "text/html": [
       "<div>\n",
       "<style scoped>\n",
       "    .dataframe tbody tr th:only-of-type {\n",
       "        vertical-align: middle;\n",
       "    }\n",
       "\n",
       "    .dataframe tbody tr th {\n",
       "        vertical-align: top;\n",
       "    }\n",
       "\n",
       "    .dataframe thead th {\n",
       "        text-align: right;\n",
       "    }\n",
       "</style>\n",
       "<table border=\"1\" class=\"dataframe\">\n",
       "  <thead>\n",
       "    <tr style=\"text-align: right;\">\n",
       "      <th></th>\n",
       "      <th>Sentiment</th>\n",
       "      <th>ID</th>\n",
       "      <th>Date</th>\n",
       "      <th>User</th>\n",
       "      <th>Text</th>\n",
       "      <th>Tw_Len</th>\n",
       "    </tr>\n",
       "  </thead>\n",
       "  <tbody>\n",
       "    <tr>\n",
       "      <th>0</th>\n",
       "      <td>Negative</td>\n",
       "      <td>1467810672</td>\n",
       "      <td>Mon Apr 06 22:19:49 PDT 2009</td>\n",
       "      <td>scotthamilton</td>\n",
       "      <td>is upset that he can't update his Facebook by ...</td>\n",
       "      <td>111</td>\n",
       "    </tr>\n",
       "    <tr>\n",
       "      <th>1</th>\n",
       "      <td>Negative</td>\n",
       "      <td>1467810917</td>\n",
       "      <td>Mon Apr 06 22:19:53 PDT 2009</td>\n",
       "      <td>mattycus</td>\n",
       "      <td>@Kenichan I dived many times for the ball. Man...</td>\n",
       "      <td>89</td>\n",
       "    </tr>\n",
       "    <tr>\n",
       "      <th>2</th>\n",
       "      <td>Negative</td>\n",
       "      <td>1467811184</td>\n",
       "      <td>Mon Apr 06 22:19:57 PDT 2009</td>\n",
       "      <td>ElleCTF</td>\n",
       "      <td>my whole body feels itchy and like its on fire</td>\n",
       "      <td>47</td>\n",
       "    </tr>\n",
       "    <tr>\n",
       "      <th>3</th>\n",
       "      <td>Negative</td>\n",
       "      <td>1467811193</td>\n",
       "      <td>Mon Apr 06 22:19:57 PDT 2009</td>\n",
       "      <td>Karoli</td>\n",
       "      <td>@nationwideclass no, it's not behaving at all....</td>\n",
       "      <td>111</td>\n",
       "    </tr>\n",
       "    <tr>\n",
       "      <th>4</th>\n",
       "      <td>Negative</td>\n",
       "      <td>1467811372</td>\n",
       "      <td>Mon Apr 06 22:20:00 PDT 2009</td>\n",
       "      <td>joy_wolf</td>\n",
       "      <td>@Kwesidei not the whole crew</td>\n",
       "      <td>29</td>\n",
       "    </tr>\n",
       "  </tbody>\n",
       "</table>\n",
       "</div>"
      ],
      "text/plain": [
       "  Sentiment          ID                          Date           User  \\\n",
       "0  Negative  1467810672  Mon Apr 06 22:19:49 PDT 2009  scotthamilton   \n",
       "1  Negative  1467810917  Mon Apr 06 22:19:53 PDT 2009       mattycus   \n",
       "2  Negative  1467811184  Mon Apr 06 22:19:57 PDT 2009        ElleCTF   \n",
       "3  Negative  1467811193  Mon Apr 06 22:19:57 PDT 2009         Karoli   \n",
       "4  Negative  1467811372  Mon Apr 06 22:20:00 PDT 2009       joy_wolf   \n",
       "\n",
       "                                                Text  Tw_Len  \n",
       "0  is upset that he can't update his Facebook by ...     111  \n",
       "1  @Kenichan I dived many times for the ball. Man...      89  \n",
       "2    my whole body feels itchy and like its on fire       47  \n",
       "3  @nationwideclass no, it's not behaving at all....     111  \n",
       "4                      @Kwesidei not the whole crew       29  "
      ]
     },
     "execution_count": 19,
     "metadata": {},
     "output_type": "execute_result"
    }
   ],
   "source": [
    "df.head()"
   ]
  },
  {
   "cell_type": "markdown",
   "id": "48add38d-d4a1-4f2e-94d2-660878caf2a6",
   "metadata": {},
   "source": [
    "## 2-5. Date 형식 변환 및 오름차순 정렬"
   ]
  },
  {
   "cell_type": "code",
   "execution_count": 21,
   "id": "87fb111d-e231-4328-9630-1b6b6cc0fb36",
   "metadata": {},
   "outputs": [],
   "source": [
    "import warnings\n",
    "warnings.filterwarnings('ignore')"
   ]
  },
  {
   "cell_type": "markdown",
   "id": "e4315078-78aa-426e-bf84-528e021a2281",
   "metadata": {},
   "source": [
    "### 2-5-1. Date 컬럼을 datetime 형식으로 변환 및 시간대 설정"
   ]
  },
  {
   "cell_type": "code",
   "execution_count": 23,
   "id": "f0bf19d5-1e6d-4ac9-9589-4f739802d3c7",
   "metadata": {
    "scrolled": true
   },
   "outputs": [],
   "source": [
    "df['Date'] = pd.to_datetime(df['Date'], format='%a %b %d %H:%M:%S PDT %Y')\n",
    "df['Date'] = df['Date'].dt.tz_localize('US/Pacific', ambiguous='NaT', nonexistent='NaT')"
   ]
  },
  {
   "cell_type": "markdown",
   "id": "9a1a33ea-ab31-40dd-8953-8c809e19b4d5",
   "metadata": {},
   "source": [
    "### 2-5-2. 시간 정보를 기반으로 시간대 범주화 (Night, Morning, Afternoon, Evening) 및 칼럼 추가"
   ]
  },
  {
   "cell_type": "code",
   "execution_count": 25,
   "id": "271a5d76-2780-40af-b583-1c207b264227",
   "metadata": {},
   "outputs": [],
   "source": [
    "df['time_of_day'] = df['Date'].dt.hour\n",
    "df['time_of_day'] = pd.cut(df['time_of_day'], bins=[0, 6, 12, 18, 24], labels=['Night', 'Morning', 'Afternoon', 'Evening'], right=False)"
   ]
  },
  {
   "cell_type": "markdown",
   "id": "0082d086-2f7d-4210-bdab-4ffb31cc96ce",
   "metadata": {},
   "source": [
    "### 2-5-3. Date 칼럼의 일자 가공"
   ]
  },
  {
   "cell_type": "code",
   "execution_count": 27,
   "id": "f95d5fdc-563e-4f41-aab4-7f67eca20a01",
   "metadata": {
    "scrolled": true
   },
   "outputs": [],
   "source": [
    "df['Date'] = df['Date'].dt.strftime('%Y-%m-%d')"
   ]
  },
  {
   "cell_type": "markdown",
   "id": "18d1c6bd-b18c-4ff7-832d-b8cf2058438a",
   "metadata": {},
   "source": [
    "### 2-5-4. Date, Sentiment 기준 데이터프레임 정렬"
   ]
  },
  {
   "cell_type": "code",
   "execution_count": 29,
   "id": "01702bd4-360e-4614-97fc-5a05633c475e",
   "metadata": {},
   "outputs": [
    {
     "data": {
      "text/html": [
       "<div>\n",
       "<style scoped>\n",
       "    .dataframe tbody tr th:only-of-type {\n",
       "        vertical-align: middle;\n",
       "    }\n",
       "\n",
       "    .dataframe tbody tr th {\n",
       "        vertical-align: top;\n",
       "    }\n",
       "\n",
       "    .dataframe thead th {\n",
       "        text-align: right;\n",
       "    }\n",
       "</style>\n",
       "<table border=\"1\" class=\"dataframe\">\n",
       "  <thead>\n",
       "    <tr style=\"text-align: right;\">\n",
       "      <th></th>\n",
       "      <th>Sentiment</th>\n",
       "      <th>ID</th>\n",
       "      <th>Date</th>\n",
       "      <th>User</th>\n",
       "      <th>Text</th>\n",
       "      <th>Tw_Len</th>\n",
       "      <th>time_of_day</th>\n",
       "    </tr>\n",
       "  </thead>\n",
       "  <tbody>\n",
       "    <tr>\n",
       "      <th>799999</th>\n",
       "      <td>Positive</td>\n",
       "      <td>1467822272</td>\n",
       "      <td>2009-04-06</td>\n",
       "      <td>ersle</td>\n",
       "      <td>I LOVE @Health4UandPets u guys r the best!!</td>\n",
       "      <td>44</td>\n",
       "      <td>Evening</td>\n",
       "    </tr>\n",
       "    <tr>\n",
       "      <th>800000</th>\n",
       "      <td>Positive</td>\n",
       "      <td>1467822273</td>\n",
       "      <td>2009-04-06</td>\n",
       "      <td>becca210</td>\n",
       "      <td>im meeting up with one of my besties tonight! ...</td>\n",
       "      <td>72</td>\n",
       "      <td>Evening</td>\n",
       "    </tr>\n",
       "    <tr>\n",
       "      <th>800001</th>\n",
       "      <td>Positive</td>\n",
       "      <td>1467822283</td>\n",
       "      <td>2009-04-06</td>\n",
       "      <td>Wingman29</td>\n",
       "      <td>@DaRealSunisaKim Thanks for the Twitter add, S...</td>\n",
       "      <td>137</td>\n",
       "      <td>Evening</td>\n",
       "    </tr>\n",
       "    <tr>\n",
       "      <th>800002</th>\n",
       "      <td>Positive</td>\n",
       "      <td>1467822287</td>\n",
       "      <td>2009-04-06</td>\n",
       "      <td>katarinka</td>\n",
       "      <td>Being sick can be really cheap when it hurts t...</td>\n",
       "      <td>104</td>\n",
       "      <td>Evening</td>\n",
       "    </tr>\n",
       "    <tr>\n",
       "      <th>800003</th>\n",
       "      <td>Positive</td>\n",
       "      <td>1467822293</td>\n",
       "      <td>2009-04-06</td>\n",
       "      <td>_EmilyYoung</td>\n",
       "      <td>@LovesBrooklyn2 he has that effect on everyone</td>\n",
       "      <td>47</td>\n",
       "      <td>Evening</td>\n",
       "    </tr>\n",
       "  </tbody>\n",
       "</table>\n",
       "</div>"
      ],
      "text/plain": [
       "       Sentiment          ID        Date         User  \\\n",
       "799999  Positive  1467822272  2009-04-06        ersle   \n",
       "800000  Positive  1467822273  2009-04-06     becca210   \n",
       "800001  Positive  1467822283  2009-04-06    Wingman29   \n",
       "800002  Positive  1467822287  2009-04-06    katarinka   \n",
       "800003  Positive  1467822293  2009-04-06  _EmilyYoung   \n",
       "\n",
       "                                                     Text  Tw_Len time_of_day  \n",
       "799999       I LOVE @Health4UandPets u guys r the best!!       44     Evening  \n",
       "800000  im meeting up with one of my besties tonight! ...      72     Evening  \n",
       "800001  @DaRealSunisaKim Thanks for the Twitter add, S...     137     Evening  \n",
       "800002  Being sick can be really cheap when it hurts t...     104     Evening  \n",
       "800003    @LovesBrooklyn2 he has that effect on everyone       47     Evening  "
      ]
     },
     "execution_count": 29,
     "metadata": {},
     "output_type": "execute_result"
    }
   ],
   "source": [
    "df = df.sort_values(by=['Date', 'Sentiment'], ascending=[True, False])\n",
    "df.head()"
   ]
  },
  {
   "cell_type": "markdown",
   "id": "ddd9c398-b266-470d-851f-2ff1871e0b09",
   "metadata": {},
   "source": [
    "## 2-6. Positive와 Negative 데이터의 형평성 조절을 위한 필터링\n",
    "- Negative: 2009-04-06 ~ 2009-06.25\n",
    "  - -> 2009-04-06 ~ 2009-06-16\n",
    "- Positive: 2009-04-06 ~ 2009-06.16"
   ]
  },
  {
   "cell_type": "code",
   "execution_count": 31,
   "id": "93de0d96-2043-4605-8aa7-eac10ffd54ed",
   "metadata": {},
   "outputs": [],
   "source": [
    "# Date 열을 datetime 형식으로의 형 변환 \n",
    "df['Date'] = pd.to_datetime(df['Date'])"
   ]
  },
  {
   "cell_type": "code",
   "execution_count": 32,
   "id": "efdb7490-eaee-4249-bbef-902cdd837fcc",
   "metadata": {},
   "outputs": [
    {
     "data": {
      "text/html": [
       "<div>\n",
       "<style scoped>\n",
       "    .dataframe tbody tr th:only-of-type {\n",
       "        vertical-align: middle;\n",
       "    }\n",
       "\n",
       "    .dataframe tbody tr th {\n",
       "        vertical-align: top;\n",
       "    }\n",
       "\n",
       "    .dataframe thead th {\n",
       "        text-align: right;\n",
       "    }\n",
       "</style>\n",
       "<table border=\"1\" class=\"dataframe\">\n",
       "  <thead>\n",
       "    <tr style=\"text-align: right;\">\n",
       "      <th></th>\n",
       "      <th>Sentiment</th>\n",
       "      <th>ID</th>\n",
       "      <th>Date</th>\n",
       "      <th>User</th>\n",
       "      <th>Text</th>\n",
       "      <th>Tw_Len</th>\n",
       "      <th>time_of_day</th>\n",
       "    </tr>\n",
       "  </thead>\n",
       "  <tbody>\n",
       "    <tr>\n",
       "      <th>553114</th>\n",
       "      <td>Negative</td>\n",
       "      <td>2203551449</td>\n",
       "      <td>2009-06-16</td>\n",
       "      <td>DaisyFab</td>\n",
       "      <td>Yea I kno  U go down there? @jknowtruth</td>\n",
       "      <td>39</td>\n",
       "      <td>Evening</td>\n",
       "    </tr>\n",
       "    <tr>\n",
       "      <th>553115</th>\n",
       "      <td>Negative</td>\n",
       "      <td>2203551573</td>\n",
       "      <td>2009-06-16</td>\n",
       "      <td>Daveyasprey</td>\n",
       "      <td>I do not feel up for work today haha. Soo sooo...</td>\n",
       "      <td>54</td>\n",
       "      <td>Evening</td>\n",
       "    </tr>\n",
       "    <tr>\n",
       "      <th>553116</th>\n",
       "      <td>Negative</td>\n",
       "      <td>2203552066</td>\n",
       "      <td>2009-06-16</td>\n",
       "      <td>Sportygal52</td>\n",
       "      <td>@sucka99 long time no talk! so its official wi...</td>\n",
       "      <td>71</td>\n",
       "      <td>Evening</td>\n",
       "    </tr>\n",
       "    <tr>\n",
       "      <th>553117</th>\n",
       "      <td>Negative</td>\n",
       "      <td>2203552161</td>\n",
       "      <td>2009-06-16</td>\n",
       "      <td>Otislam</td>\n",
       "      <td>I can see the sun shine, the breeze and the pe...</td>\n",
       "      <td>112</td>\n",
       "      <td>Evening</td>\n",
       "    </tr>\n",
       "    <tr>\n",
       "      <th>553118</th>\n",
       "      <td>Negative</td>\n",
       "      <td>2203552500</td>\n",
       "      <td>2009-06-16</td>\n",
       "      <td>_yvette</td>\n",
       "      <td>@xivyy What's tfln? Never heard of it</td>\n",
       "      <td>38</td>\n",
       "      <td>Evening</td>\n",
       "    </tr>\n",
       "  </tbody>\n",
       "</table>\n",
       "</div>"
      ],
      "text/plain": [
       "       Sentiment          ID       Date         User  \\\n",
       "553114  Negative  2203551449 2009-06-16     DaisyFab   \n",
       "553115  Negative  2203551573 2009-06-16  Daveyasprey   \n",
       "553116  Negative  2203552066 2009-06-16  Sportygal52   \n",
       "553117  Negative  2203552161 2009-06-16      Otislam   \n",
       "553118  Negative  2203552500 2009-06-16      _yvette   \n",
       "\n",
       "                                                     Text  Tw_Len time_of_day  \n",
       "553114            Yea I kno  U go down there? @jknowtruth      39     Evening  \n",
       "553115  I do not feel up for work today haha. Soo sooo...      54     Evening  \n",
       "553116  @sucka99 long time no talk! so its official wi...      71     Evening  \n",
       "553117  I can see the sun shine, the breeze and the pe...     112     Evening  \n",
       "553118             @xivyy What's tfln? Never heard of it       38     Evening  "
      ]
     },
     "execution_count": 32,
     "metadata": {},
     "output_type": "execute_result"
    }
   ],
   "source": [
    "target_date = pd.to_datetime('2009-06-16')\n",
    "df = df[~((df['Sentiment'] == 'Negative') & (df['Date'] > target_date))]\n",
    "df.tail()"
   ]
  },
  {
   "cell_type": "code",
   "execution_count": 115,
   "id": "f7e05508-d46a-47de-bb46-ce56d42f56fc",
   "metadata": {},
   "outputs": [
    {
     "data": {
      "text/html": [
       "<div>\n",
       "<style scoped>\n",
       "    .dataframe tbody tr th:only-of-type {\n",
       "        vertical-align: middle;\n",
       "    }\n",
       "\n",
       "    .dataframe tbody tr th {\n",
       "        vertical-align: top;\n",
       "    }\n",
       "\n",
       "    .dataframe thead th {\n",
       "        text-align: right;\n",
       "    }\n",
       "</style>\n",
       "<table border=\"1\" class=\"dataframe\">\n",
       "  <thead>\n",
       "    <tr style=\"text-align: right;\">\n",
       "      <th></th>\n",
       "      <th>Sentiment</th>\n",
       "      <th>ID</th>\n",
       "      <th>Date</th>\n",
       "      <th>User</th>\n",
       "      <th>Text</th>\n",
       "      <th>Tw_Len</th>\n",
       "      <th>time_of_day</th>\n",
       "    </tr>\n",
       "  </thead>\n",
       "  <tbody>\n",
       "    <tr>\n",
       "      <th>799999</th>\n",
       "      <td>Positive</td>\n",
       "      <td>1467822272</td>\n",
       "      <td>2009-04-06</td>\n",
       "      <td>ersle</td>\n",
       "      <td>I LOVE @Health4UandPets u guys r the best!!</td>\n",
       "      <td>44</td>\n",
       "      <td>Evening</td>\n",
       "    </tr>\n",
       "    <tr>\n",
       "      <th>800000</th>\n",
       "      <td>Positive</td>\n",
       "      <td>1467822273</td>\n",
       "      <td>2009-04-06</td>\n",
       "      <td>becca210</td>\n",
       "      <td>im meeting up with one of my besties tonight! ...</td>\n",
       "      <td>72</td>\n",
       "      <td>Evening</td>\n",
       "    </tr>\n",
       "    <tr>\n",
       "      <th>800001</th>\n",
       "      <td>Positive</td>\n",
       "      <td>1467822283</td>\n",
       "      <td>2009-04-06</td>\n",
       "      <td>Wingman29</td>\n",
       "      <td>@DaRealSunisaKim Thanks for the Twitter add, S...</td>\n",
       "      <td>137</td>\n",
       "      <td>Evening</td>\n",
       "    </tr>\n",
       "    <tr>\n",
       "      <th>800002</th>\n",
       "      <td>Positive</td>\n",
       "      <td>1467822287</td>\n",
       "      <td>2009-04-06</td>\n",
       "      <td>katarinka</td>\n",
       "      <td>Being sick can be really cheap when it hurts t...</td>\n",
       "      <td>104</td>\n",
       "      <td>Evening</td>\n",
       "    </tr>\n",
       "    <tr>\n",
       "      <th>800003</th>\n",
       "      <td>Positive</td>\n",
       "      <td>1467822293</td>\n",
       "      <td>2009-04-06</td>\n",
       "      <td>_EmilyYoung</td>\n",
       "      <td>@LovesBrooklyn2 he has that effect on everyone</td>\n",
       "      <td>47</td>\n",
       "      <td>Evening</td>\n",
       "    </tr>\n",
       "    <tr>\n",
       "      <th>...</th>\n",
       "      <td>...</td>\n",
       "      <td>...</td>\n",
       "      <td>...</td>\n",
       "      <td>...</td>\n",
       "      <td>...</td>\n",
       "      <td>...</td>\n",
       "      <td>...</td>\n",
       "    </tr>\n",
       "    <tr>\n",
       "      <th>553114</th>\n",
       "      <td>Negative</td>\n",
       "      <td>2203551449</td>\n",
       "      <td>2009-06-16</td>\n",
       "      <td>DaisyFab</td>\n",
       "      <td>Yea I kno  U go down there? @jknowtruth</td>\n",
       "      <td>39</td>\n",
       "      <td>Evening</td>\n",
       "    </tr>\n",
       "    <tr>\n",
       "      <th>553115</th>\n",
       "      <td>Negative</td>\n",
       "      <td>2203551573</td>\n",
       "      <td>2009-06-16</td>\n",
       "      <td>Daveyasprey</td>\n",
       "      <td>I do not feel up for work today haha. Soo sooo...</td>\n",
       "      <td>54</td>\n",
       "      <td>Evening</td>\n",
       "    </tr>\n",
       "    <tr>\n",
       "      <th>553116</th>\n",
       "      <td>Negative</td>\n",
       "      <td>2203552066</td>\n",
       "      <td>2009-06-16</td>\n",
       "      <td>Sportygal52</td>\n",
       "      <td>@sucka99 long time no talk! so its official wi...</td>\n",
       "      <td>71</td>\n",
       "      <td>Evening</td>\n",
       "    </tr>\n",
       "    <tr>\n",
       "      <th>553117</th>\n",
       "      <td>Negative</td>\n",
       "      <td>2203552161</td>\n",
       "      <td>2009-06-16</td>\n",
       "      <td>Otislam</td>\n",
       "      <td>I can see the sun shine, the breeze and the pe...</td>\n",
       "      <td>112</td>\n",
       "      <td>Evening</td>\n",
       "    </tr>\n",
       "    <tr>\n",
       "      <th>553118</th>\n",
       "      <td>Negative</td>\n",
       "      <td>2203552500</td>\n",
       "      <td>2009-06-16</td>\n",
       "      <td>_yvette</td>\n",
       "      <td>@xivyy What's tfln? Never heard of it</td>\n",
       "      <td>38</td>\n",
       "      <td>Evening</td>\n",
       "    </tr>\n",
       "  </tbody>\n",
       "</table>\n",
       "<p>1353119 rows × 7 columns</p>\n",
       "</div>"
      ],
      "text/plain": [
       "       Sentiment          ID       Date         User  \\\n",
       "799999  Positive  1467822272 2009-04-06        ersle   \n",
       "800000  Positive  1467822273 2009-04-06     becca210   \n",
       "800001  Positive  1467822283 2009-04-06    Wingman29   \n",
       "800002  Positive  1467822287 2009-04-06    katarinka   \n",
       "800003  Positive  1467822293 2009-04-06  _EmilyYoung   \n",
       "...          ...         ...        ...          ...   \n",
       "553114  Negative  2203551449 2009-06-16     DaisyFab   \n",
       "553115  Negative  2203551573 2009-06-16  Daveyasprey   \n",
       "553116  Negative  2203552066 2009-06-16  Sportygal52   \n",
       "553117  Negative  2203552161 2009-06-16      Otislam   \n",
       "553118  Negative  2203552500 2009-06-16      _yvette   \n",
       "\n",
       "                                                     Text  Tw_Len time_of_day  \n",
       "799999       I LOVE @Health4UandPets u guys r the best!!       44     Evening  \n",
       "800000  im meeting up with one of my besties tonight! ...      72     Evening  \n",
       "800001  @DaRealSunisaKim Thanks for the Twitter add, S...     137     Evening  \n",
       "800002  Being sick can be really cheap when it hurts t...     104     Evening  \n",
       "800003    @LovesBrooklyn2 he has that effect on everyone       47     Evening  \n",
       "...                                                   ...     ...         ...  \n",
       "553114            Yea I kno  U go down there? @jknowtruth      39     Evening  \n",
       "553115  I do not feel up for work today haha. Soo sooo...      54     Evening  \n",
       "553116  @sucka99 long time no talk! so its official wi...      71     Evening  \n",
       "553117  I can see the sun shine, the breeze and the pe...     112     Evening  \n",
       "553118             @xivyy What's tfln? Never heard of it       38     Evening  \n",
       "\n",
       "[1353119 rows x 7 columns]"
      ]
     },
     "execution_count": 115,
     "metadata": {},
     "output_type": "execute_result"
    }
   ],
   "source": [
    "# 246,880개의 데이터 삭제\n",
    "df"
   ]
  },
  {
   "cell_type": "markdown",
   "id": "a8a1e25b-2571-49fe-8b67-8b138559c073",
   "metadata": {},
   "source": [
    "---\n",
    "# 3. 데이터 시각화\n",
    "1) 트윗 길이와 감정\n",
    "2) 트윗 작성 일자와 감정\n",
    "3) 트윗 작성 시간대와 감정"
   ]
  },
  {
   "cell_type": "markdown",
   "id": "d8f5f376-3b5e-4b4e-9f93-592f7b7c462a",
   "metadata": {},
   "source": [
    "## 3-1. 트윗 길이와 감정의 분포 시각화"
   ]
  },
  {
   "cell_type": "code",
   "execution_count": 36,
   "id": "1d113355-1e0b-41b1-b45b-b0826c8e731b",
   "metadata": {},
   "outputs": [
    {
     "data": {
      "image/png": "[encoded data removed]",
      "text/plain": [
       "<Figure size 1200x600 with 1 Axes>"
      ]
     },
     "metadata": {},
     "output_type": "display_data"
    }
   ],
   "source": [
    "plt.figure(figsize=(12,6))\n",
    "sns.histplot(data=df, x='Tw_Len', hue='Sentiment', multiple='stack',bins=30, palette={'Negative':'red', 'Positive': 'blue'})\n",
    "plt.title('Distribution of Tweet Length by Sentiment')\n",
    "plt.xlabel('Tweet Length')\n",
    "plt.ylabel('Frequency')\n",
    "plt.show()"
   ]
  },
  {
   "cell_type": "markdown",
   "id": "0f66e34d-0d75-4452-8fe9-67e0a1b70049",
   "metadata": {},
   "source": [
    "## 3-2. 트윗 작성 일정과 감정의 분포 시각화"
   ]
  },
  {
   "cell_type": "code",
   "execution_count": 38,
   "id": "faac57c4-9ee2-411c-9752-f594e158d923",
   "metadata": {},
   "outputs": [
    {
     "data": {
      "image/png": "[encoded data removed]",
      "text/plain": [
       "<Figure size 1200x600 with 1 Axes>"
      ]
     },
     "metadata": {},
     "output_type": "display_data"
    }
   ],
   "source": [
    "plt.figure(figsize=(12, 6))\n",
    "sns.countplot(data=df, x='Date', hue='Sentiment', palette={'Negative':'red', 'Positive': 'blue'})\n",
    "plt.title('Distribution of Tweet Sentiment by Time of Day')\n",
    "plt.xlabel('Date')\n",
    "plt.ylabel('Count')\n",
    "plt.xticks(rotation=45, ha='right')\n",
    "plt.show()"
   ]
  },
  {
   "cell_type": "markdown",
   "id": "86100f66-02f6-47a2-b556-902b9b38fb49",
   "metadata": {},
   "source": [
    "## 3-3. 시간대와 감정의 분포 시각화"
   ]
  },
  {
   "cell_type": "code",
   "execution_count": 40,
   "id": "39a62230-2883-4be5-9e3c-d2bb0ddff695",
   "metadata": {},
   "outputs": [
    {
     "data": {
      "image/png": "[encoded data removed]",
      "text/plain": [
       "<Figure size 1200x600 with 1 Axes>"
      ]
     },
     "metadata": {},
     "output_type": "display_data"
    }
   ],
   "source": [
    "# 시간대과 감정의 분포 시각화\n",
    "plt.figure(figsize=(12, 6))\n",
    "sns.countplot(data=df, x='time_of_day', hue='Sentiment', palette={'Negative':'red', 'Positive': 'blue'})\n",
    "plt.title('Distribution of Tweet Sentiment by Time of Day')\n",
    "plt.xlabel('Time of Day')\n",
    "plt.ylabel('Count')\n",
    "plt.show()"
   ]
  },
  {
   "cell_type": "markdown",
   "id": "1d204313-70fc-460c-aa32-1f01faffd926",
   "metadata": {},
   "source": [
    "---"
   ]
  },
  {
   "cell_type": "markdown",
   "id": "501a5252-daef-4c7d-9db3-978b482fd2dc",
   "metadata": {},
   "source": [
    "# 4. 가설 검정"
   ]
  },
  {
   "cell_type": "markdown",
   "id": "533a0ab2-1e14-4ae7-a890-a6ecb4b1a64a",
   "metadata": {},
   "source": [
    "## 4-1. 귀무 가설 검정: 트윗의 길이와 감정(긍정/부정) 사이에는 상관관계가 없다."
   ]
  },
  {
   "cell_type": "markdown",
   "id": "9c5be053-3af5-4fb9-a22f-b245567f9f41",
   "metadata": {},
   "source": [
    "### 4-1-1. 감정별 트윗 길이 추출"
   ]
  },
  {
   "cell_type": "code",
   "execution_count": 45,
   "id": "a99552b9-e023-4b1e-a9f7-f3a6234df561",
   "metadata": {},
   "outputs": [],
   "source": [
    "pos_tweets = df[df['Sentiment'] == 'Positive']['Tw_Len']\n",
    "neg_tweets = df[df['Sentiment'] == 'Negative']['Tw_Len']"
   ]
  },
  {
   "cell_type": "markdown",
   "id": "b79d0646-6efb-49b0-9fd1-17d158ed529a",
   "metadata": {},
   "source": [
    "### 4-1-2. T-검정 수행"
   ]
  },
  {
   "cell_type": "code",
   "execution_count": 47,
   "id": "381297b1-2eb1-4f64-bccd-2f89676aa978",
   "metadata": {},
   "outputs": [
    {
     "name": "stdout",
     "output_type": "stream",
     "text": [
      "T-Statistic: -4.158769322383248\n",
      "P-Value (Tweet Length vs Sentiment): 3.1998946437679734e-05\n"
     ]
    }
   ],
   "source": [
    "t_stat, p_value = ttest_ind(pos_tweets, neg_tweets, equal_var=False)\n",
    "\n",
    "print(f\"T-Statistic: {t_stat}\")\n",
    "print(f\"P-Value (Tweet Length vs Sentiment): {p_value}\")"
   ]
  },
  {
   "cell_type": "markdown",
   "id": "ab9f9b8c-6b54-4aca-992d-3904cee70498",
   "metadata": {},
   "source": [
    "### 4-1-3. 유의 수준(significance level)과의 비교\n",
    "- 유의 수준 (sig_lv) : 0.5"
   ]
  },
  {
   "cell_type": "code",
   "execution_count": 49,
   "id": "24681b6f-359b-4b60-8f2b-9250f841826e",
   "metadata": {},
   "outputs": [
    {
     "name": "stdout",
     "output_type": "stream",
     "text": [
      "귀무 가설 채택: 트윗 길이와 감정 사이에 상관관계가 없다.\n"
     ]
    }
   ],
   "source": [
    "sig_lv = 0.5\n",
    "\n",
    "if p_value < sig_lv:\n",
    "    print(\"귀무 가설 채택: 트윗 길이와 감정 사이에 상관관계가 없다.\")\n",
    "else:\n",
    "    print(\"귀무 가설 기각: 트윗 길이와 감정 사이에 상관관계가 있다.\")"
   ]
  },
  {
   "cell_type": "markdown",
   "id": "29cbf7a7-2374-4795-bf80-5e01477e085d",
   "metadata": {},
   "source": [
    "### 귀무 가설 채택: 트윗 길이와 감정 사이에 상관관계가 있다.\n"
   ]
  },
  {
   "cell_type": "markdown",
   "id": "fda73e7c-0cbf-4a36-a6a4-1d20192a5fbe",
   "metadata": {},
   "source": [
    "---"
   ]
  },
  {
   "cell_type": "markdown",
   "id": "804a7630-ccb7-4f7a-924d-c8e046dba9b8",
   "metadata": {},
   "source": [
    "## 4-2. 귀무 가설 검정: 트윗의 작성 일자와 감정(긍정/부정) 사이에는 상관관계가 없다."
   ]
  },
  {
   "cell_type": "markdown",
   "id": "4cd59a0f-bafc-4e33-b58c-c1a112171e8e",
   "metadata": {},
   "source": [
    "### 4-2-1. 감정별 작성 일자 추출"
   ]
  },
  {
   "cell_type": "code",
   "execution_count": 54,
   "id": "9178cae1-03b1-4d94-b33e-29228bed9922",
   "metadata": {},
   "outputs": [],
   "source": [
    "posting_date = pd.crosstab(df['Date'], df['Sentiment'])"
   ]
  },
  {
   "cell_type": "markdown",
   "id": "d617020e-2d4f-4823-95c6-8643bd269090",
   "metadata": {},
   "source": [
    "### 4-2-2. 카이제곱 검정 수행"
   ]
  },
  {
   "cell_type": "code",
   "execution_count": 56,
   "id": "25e82710-cf7f-4fcd-a051-48d65d0d125a",
   "metadata": {},
   "outputs": [],
   "source": [
    "chi2, p_value_date, _, _ = chi2_contingency(posting_date)"
   ]
  },
  {
   "cell_type": "code",
   "execution_count": 57,
   "id": "944902cf-4303-40e9-8f50-d946e2745d88",
   "metadata": {},
   "outputs": [
    {
     "name": "stdout",
     "output_type": "stream",
     "text": [
      "Chi2-Statistic (Date vs Sentiment): 17586.994437760637\n",
      "P-Value (Date vs Sentiment): 0.0\n"
     ]
    }
   ],
   "source": [
    "print(f\"Chi2-Statistic (Date vs Sentiment): {chi2}\")\n",
    "print(f\"P-Value (Date vs Sentiment): {p_value_date}\")"
   ]
  },
  {
   "cell_type": "markdown",
   "id": "d52e4379-ad91-48b3-9374-777ad9ba8518",
   "metadata": {},
   "source": [
    "### 4-2-3. 유의 수준과의 비교\n",
    "- 유의 수준 (sig_lv): 0.5"
   ]
  },
  {
   "cell_type": "code",
   "execution_count": 60,
   "id": "3e13b142-1898-44a9-a98d-e4e7ec48dbe5",
   "metadata": {},
   "outputs": [
    {
     "name": "stdout",
     "output_type": "stream",
     "text": [
      "귀무 가설 채택: 작성 일자와 감정 사이에 상관관계가 없다.\n"
     ]
    }
   ],
   "source": [
    "if p_value_date < sig_lv:\n",
    "    print(\"귀무 가설 채택: 작성 일자와 감정 사이에 상관관계가 없다.\")\n",
    "else:\n",
    "    print(\"귀무 가설 기각: 작성 일자와 감정 사이에 상관관계가 있다.\")"
   ]
  },
  {
   "cell_type": "markdown",
   "id": "19ed3f43-3e2c-44ef-944f-9ebb66bd0bc6",
   "metadata": {},
   "source": [
    "### 귀무 가설 채택: 작성 일자와 감정 사이에 상관관계가 없다."
   ]
  },
  {
   "cell_type": "markdown",
   "id": "bab5759f-aff8-48e8-b4fb-9c8f11a99e0f",
   "metadata": {},
   "source": [
    "---"
   ]
  },
  {
   "cell_type": "markdown",
   "id": "a23e72ee-df8b-4af6-8410-db342b89bec1",
   "metadata": {},
   "source": [
    "## 4-3. 귀무 가설 검정: 트윗 작성 시간대와 감정(긍정/부정) 사이에는 상관관계가 없다."
   ]
  },
  {
   "cell_type": "markdown",
   "id": "69a36dd8-d23e-40aa-97a2-c6204be1f306",
   "metadata": {},
   "source": [
    "### 4-3-1. 감정별 작성 시간대 추출"
   ]
  },
  {
   "cell_type": "code",
   "execution_count": 65,
   "id": "ae9d1765-7f46-43f5-981d-05b2e9527667",
   "metadata": {},
   "outputs": [],
   "source": [
    "posting_time = pd.crosstab(df['time_of_day'], df['Sentiment'])"
   ]
  },
  {
   "cell_type": "markdown",
   "id": "610271f3-c521-42f7-818d-9d6a293a2659",
   "metadata": {},
   "source": [
    "### 4-3-2. 카이제곱 검정 수행"
   ]
  },
  {
   "cell_type": "code",
   "execution_count": 67,
   "id": "7b05687f-87a9-43aa-a4a2-2510e3b1c84a",
   "metadata": {},
   "outputs": [],
   "source": [
    "chi2, p_value_time, _, _ = chi2_contingency(posting_time)"
   ]
  },
  {
   "cell_type": "code",
   "execution_count": 68,
   "id": "b0b2f2c5-57db-43be-a6fa-d4c7a6c9904a",
   "metadata": {},
   "outputs": [
    {
     "name": "stdout",
     "output_type": "stream",
     "text": [
      "Chi2-Statistic (Date vs Sentiment): 6157.93112859529\n",
      "P-Value (Date vs Sentiment): 0.0\n"
     ]
    }
   ],
   "source": [
    "print(f\"Chi2-Statistic (Date vs Sentiment): {chi2}\")\n",
    "print(f\"P-Value (Date vs Sentiment): {p_value_date}\")"
   ]
  },
  {
   "cell_type": "markdown",
   "id": "e56cdd0d-c26c-423a-a14c-e0290cefa23f",
   "metadata": {},
   "source": [
    "### 4-3-3. 유의 수준과의 비교"
   ]
  },
  {
   "cell_type": "code",
   "execution_count": 119,
   "id": "fe5f9101-ebef-4449-bcb7-34f38770d3a7",
   "metadata": {},
   "outputs": [
    {
     "name": "stdout",
     "output_type": "stream",
     "text": [
      "귀무 가설 채택: 작성 일자와 감정 사이에 상관관계가 없다.\n"
     ]
    }
   ],
   "source": [
    "if p_value_date < sig_lv:\n",
    "    print(\"귀무 가설 채택: 작성 일자와 감정 사이에 상관관계가 없다.\")\n",
    "else:\n",
    "    print(\"귀무 가설 기각: 작성 일자와 감정 사이에 상관관계가 있다.\")"
   ]
  },
  {
   "cell_type": "markdown",
   "id": "1d18f419-7b82-4848-8204-689d9bdd894d",
   "metadata": {},
   "source": [
    "### 귀무 가설 채택: 작성 일자와 감정 사이에 차이가 없다."
   ]
  },
  {
   "cell_type": "markdown",
   "id": "a70a8e31-88ca-4200-a95c-3888a27427ba",
   "metadata": {},
   "source": [
    "---"
   ]
  },
  {
   "cell_type": "markdown",
   "id": "cdd6475c-60b4-4cf3-a56e-a20fffabeb09",
   "metadata": {},
   "source": [
    "## 결론: 트윗의 길이와 작성 일자, 작성 시간대와 감정(긍정/부정) 사이에는 상관관계가 없다."
   ]
  }
 ],
 "metadata": {
  "kernelspec": {
   "display_name": "Python 3 (ipykernel)",
   "language": "python",
   "name": "python3"
  },
  "language_info": {
   "codemirror_mode": {
    "name": "ipython",
    "version": 3
   },
   "file_extension": ".py",
   "mimetype": "text/x-python",
   "name": "python",
   "nbconvert_exporter": "python",
   "pygments_lexer": "ipython3",
   "version": "3.12.3"
  }
 },
 "nbformat": 4,
 "nbformat_minor": 5
}
